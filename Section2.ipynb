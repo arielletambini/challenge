{
 "cells": [
  {
   "cell_type": "code",
   "execution_count": 1,
   "metadata": {
    "collapsed": true
   },
   "outputs": [],
   "source": [
    "import pandas as pd\n",
    "import numpy as np\n",
    "from matplotlib import pyplot as plt\n",
    "import seaborn as sns\n",
    "%matplotlib inline\n",
    "file_name = '/Users/arielle/Downloads/Incidents_Responded_to_by_Fire_Companies.csv'"
   ]
  },
  {
   "cell_type": "code",
   "execution_count": null,
   "metadata": {},
   "outputs": [],
   "source": [
    "# Read in original csv file and perform datetime conversion. This takes time, so intermediate file saved!\n",
    "\n",
    "df = pd.read_csv(file_name)\n",
    "df.INCIDENT_DATE_TIME = pd.to_datetime(df.INCIDENT_DATE_TIME)\n",
    "df.ARRIVAL_DATE_TIME = pd.to_datetime(df.ARRIVAL_DATE_TIME)\n",
    "\n",
    "df.to_csv('/Users/arielle/Downloads/Incidents_Responded_to_by_Fire_Companies_mod.csv')"
   ]
  },
  {
   "cell_type": "code",
   "execution_count": 2,
   "metadata": {},
   "outputs": [
    {
     "name": "stderr",
     "output_type": "stream",
     "text": [
      "/Applications/anaconda3/lib/python3.6/site-packages/IPython/core/interactiveshell.py:2698: DtypeWarning: Columns (2,15) have mixed types. Specify dtype option on import or set low_memory=False.\n",
      "  interactivity=interactivity, compiler=compiler, result=result)\n"
     ]
    }
   ],
   "source": [
    "# Read in modified file\n",
    "df = pd.read_csv('/Users/arielle/Downloads/Incidents_Responded_to_by_Fire_Companies_mod.csv')"
   ]
  },
  {
   "cell_type": "code",
   "execution_count": 3,
   "metadata": {},
   "outputs": [
    {
     "name": "stdout",
     "output_type": "stream",
     "text": [
      "The most common incident is: 300 - Rescue, EMS incident, other\n",
      "The proportion of FDNY responses associated with 300 - Rescue, EMS incident, other incident was: 0.3599\n"
     ]
    }
   ],
   "source": [
    "#### Question: What proportion of incidents were the most common one? \n",
    "\n",
    "# First determine most common incident\n",
    "inc_label = 'INCIDENT_TYPE_DESC'\n",
    "modes = df.mode()\n",
    "common_inc = modes[inc_label][0]\n",
    "print('The most common incident is: {}'.format(common_inc))\n",
    "\n",
    "proportion = np.mean(df[inc_label] == common_inc)\n",
    "print('The proportion of FDNY responses associated with {} incident was: {}'.\\\n",
    "      format(common_inc, np.round(proportion,4)))\n"
   ]
  },
  {
   "cell_type": "code",
   "execution_count": 4,
   "metadata": {},
   "outputs": [
    {
     "name": "stdout",
     "output_type": "stream",
     "text": [
      "11.2201025057\n",
      "4.00552400363\n",
      "Ratio: 2.80115722575\n"
     ]
    }
   ],
   "source": [
    "#### Question: What is the ratio of the average number of units...\n",
    "units_label = 'UNITS_ONSCENE'\n",
    "n_bldg_fire = df[df.INCIDENT_TYPE_DESC.str.contains('111')][units_label]\n",
    "n_smk_scare = df[df.INCIDENT_TYPE_DESC.str.contains('651')][units_label]\n",
    "\n",
    "print(np.nanmean(n_bldg_fire))\n",
    "print(np.nanmean(n_smk_scare))\n",
    "print('Ratio: ' + str(np.true_divide(np.nanmean(n_bldg_fire), np.nanmean(n_smk_scare))))\n",
    "# print(vals)"
   ]
  },
  {
   "cell_type": "code",
   "execution_count": 5,
   "metadata": {},
   "outputs": [
    {
     "name": "stdout",
     "output_type": "stream",
     "text": [
      "False call rate for Staten Island vs. Manhattan:  1.603\n"
     ]
    }
   ],
   "source": [
    "#### Question: False call rate for staten island vs. manhattan\n",
    "\n",
    "df_false_calls = df[df.INCIDENT_TYPE_DESC.str.contains('710')]\n",
    "location_label = 'BOROUGH_DESC'\n",
    "staten = '3 - Staten Island'\n",
    "man = '1 - Manhattan'\n",
    "locations = [staten, man]\n",
    "\n",
    "# calculate number of false calls & number of total calls to compute rate for each location\n",
    "false_calls = np.zeros((len(locations)))\n",
    "total_calls = np.zeros_like(false_calls)\n",
    "for ilocation, location in enumerate(locations):\n",
    "    false_calls[ilocation] = np.sum(df_false_calls[location_label] == location)\n",
    "    total_calls[ilocation] = np.sum(df[location_label] == location)\n",
    "    \n",
    "# false call rate\n",
    "false_call_rate = np.true_divide(false_calls, total_calls)\n",
    "\n",
    "# staten island vs. manhattan\n",
    "print('False call rate for Staten Island vs. Manhattan:  ' + \\\n",
    "      str(np.round(false_call_rate[0]/false_call_rate[1],4)))"
   ]
  },
  {
   "cell_type": "code",
   "execution_count": 6,
   "metadata": {},
   "outputs": [
    {
     "name": "stdout",
     "output_type": "stream",
     "text": [
      "# of building fire incidents: 14202\n"
     ]
    }
   ],
   "source": [
    "#### Question: 75th percentile of times between arrival vs. report of BUILDING FIRE incidents\n",
    "df_fire = df[df.INCIDENT_TYPE_DESC.str.contains('111')]\n",
    "df_fire_td_all = (pd.to_datetime(df_fire.ARRIVAL_DATE_TIME) - pd.to_datetime(df_fire.INCIDENT_DATE_TIME))\\\n",
    "    .astype('timedelta64[s]')\n",
    "print('# of building fire incidents: ' + str(len(df_fire_td_all)))"
   ]
  },
  {
   "cell_type": "code",
   "execution_count": 7,
   "metadata": {},
   "outputs": [
    {
     "name": "stderr",
     "output_type": "stream",
     "text": [
      "/Applications/anaconda3/lib/python3.6/site-packages/seaborn/distributions.py:2557: FutureWarning: `distplot` is a deprecated function and will be removed in a future version. Please adapt your code to use either `displot` (a figure-level function with similar flexibility) or `histplot` (an axes-level function for histograms).\n",
      "  warnings.warn(msg, FutureWarning)\n"
     ]
    },
    {
     "name": "stdout",
     "output_type": "stream",
     "text": [
      "75th percentile: 4.1667\n",
      "Answer is 4 1/6, but fraction was not accepted as answer -- only float\n"
     ]
    },
    {
     "data": {
      "image/png": "[encoded data removed]",
      "text/plain": [
       "<matplotlib.figure.Figure at 0x7ff8fde4a400>"
      ]
     },
     "metadata": {},
     "output_type": "display_data"
    }
   ],
   "source": [
    "# convert to minutes\n",
    "df_fire_td = df_fire_td_all[np.isnan(df_fire_td_all)==0] / 60\n",
    "sns.distplot(df_fire_td)\n",
    "plt.xlabel('Arrival times for building fire incidents (minutes)')\n",
    "print('75th percentile: ' + str(np.round(np.percentile(df_fire_td, 75),4)))\n",
    "print('Answer is 4 1/6, but fraction was not accepted as answer -- only float')"
   ]
  },
  {
   "cell_type": "code",
   "execution_count": 8,
   "metadata": {},
   "outputs": [],
   "source": [
    "#### Question: rate of cooking incidents at the hour of maximum rate of cooking incidents\n",
    "\n",
    "df_cook_t = pd.to_datetime(df[df.INCIDENT_TYPE_DESC.str.contains('113')].INCIDENT_DATE_TIME)\n",
    "\n",
    "# hours of cooking incidents\n",
    "hours_cook = df_cook_t.dt.hour \n",
    "\n",
    "# hours of all incidents\n",
    "hours_all = pd.to_datetime(df.INCIDENT_DATE_TIME).dt.hour\n",
    "\n",
    "# array of possible hours\n",
    "poss_hours = np.unique(hours_all)"
   ]
  },
  {
   "cell_type": "code",
   "execution_count": 9,
   "metadata": {},
   "outputs": [
    {
     "name": "stdout",
     "output_type": "stream",
     "text": [
      "Max. rate of cooking incidents: [ 0.0511]\n"
     ]
    },
    {
     "data": {
      "image/png": "[encoded data removed]",
      "text/plain": [
       "<matplotlib.figure.Figure at 0x7ff81f90f5c0>"
      ]
     },
     "metadata": {},
     "output_type": "display_data"
    }
   ],
   "source": [
    "Nhours = len(poss_hours)\n",
    "\n",
    "# number of incidents at each hour\n",
    "cook_count = np.zeros((Nhours))\n",
    "all_count = np.zeros_like(cook_count)\n",
    "for hour in poss_hours:\n",
    "    cook_count[hour] = np.sum(hours_cook==hour)\n",
    "    all_count[hour] = np.sum(hours_all==hour)\n",
    "\n",
    "# rate of cooking incidents at each hour\n",
    "cook_rate = np.true_divide(cook_count, all_count)\n",
    "\n",
    "plt.figure\n",
    "plt.plot(poss_hours, cook_rate,'-o')\n",
    "plt.xlabel('Hour of day')\n",
    "plt.ylabel('Rate of incidents related to cooking')\n",
    "print('Max. rate of cooking incidents: ' + str(np.round(cook_rate[cook_rate==max(cook_rate)],4)))"
   ]
  },
  {
   "cell_type": "code",
   "execution_count": 10,
   "metadata": {},
   "outputs": [
    {
     "name": "stderr",
     "output_type": "stream",
     "text": [
      "/Applications/anaconda3/lib/python3.6/site-packages/pandas/core/generic.py:5208: SettingWithCopyWarning: \n",
      "A value is trying to be set on a copy of a slice from a DataFrame.\n",
      "Try using .loc[row_indexer,col_indexer] = value instead\n",
      "\n",
      "See the caveats in the documentation: http://pandas.pydata.org/pandas-docs/stable/user_guide/indexing.html#returning-a-view-versus-a-copy\n",
      "  self[name] = value\n"
     ]
    }
   ],
   "source": [
    "#### Question: is population related to # of building fire incidents in each zip code?\n",
    "\n",
    "# Calculate number of incidents per zip \n",
    "df_fire.ZIP_CODE = df_fire.ZIP_CODE.astype('int')\n",
    "df_info = df_fire.groupby('ZIP_CODE').count()\n",
    "df_info.index = df_info.index.astype('int')\n",
    "np.sort(df_info.index)\n",
    "df_y = pd.DataFrame({'Zip Code': df_info.index.astype('int'), \\\n",
    "                     'NumFireInc': df_info.INCIDENT_DATE_TIME}, index=None)\n"
   ]
  },
  {
   "cell_type": "code",
   "execution_count": 11,
   "metadata": {},
   "outputs": [],
   "source": [
    "# Read in population information\n",
    "zip_pop_df = pd.read_html('https://www.newyork-demographics.com/zip_codes_by_population')[0]\n",
    "zip_pop_df = zip_pop_df[:-1] # last row is junk\n",
    "\n",
    "# need to clean data - deal with TIE entries\n",
    "# noramlize the separators\n",
    "zip_pop_df['Zip Code'] = zip_pop_df['Zip Code'].astype('str')\n",
    "zip_pop_df['Zip Code'] = zip_pop_df['Zip Code'].apply(lambda x: x.replace(\",\", \"\").replace(\"and \", \"\"))\n",
    "\n",
    "# expand \"and\" duplicates\n",
    "data_zip = zip_pop_df['Zip Code'].str.split(' ', expand=True).stack().reset_index(level = 1,drop = True)\n",
    "\n",
    "# join with full dataframe\n",
    "zip_pop_df = zip_pop_df.drop(['Zip Code'], axis=1).join(data_zip.to_frame(name = 'Zip Code'))\n",
    "\n",
    "zip_pop_df = zip_pop_df.dropna()"
   ]
  },
  {
   "cell_type": "code",
   "execution_count": 12,
   "metadata": {},
   "outputs": [],
   "source": [
    "# merge population information & fire incidents\n",
    "zip_pop_df['Zip Code'] = zip_pop_df['Zip Code'].astype('int64')\n",
    "df_y['Zip Code'] = df_y['Zip Code'].astype('int64')\n",
    "\n",
    "df_merge = zip_pop_df.join(df_y, on='Zip Code', how='inner', lsuffix='_i', rsuffix='_l')\n",
    "df_merge.head()\n",
    "df_merge['Population'] = df_merge['Population'].astype('float64')"
   ]
  },
  {
   "cell_type": "code",
   "execution_count": 13,
   "metadata": {},
   "outputs": [
    {
     "name": "stdout",
     "output_type": "stream",
     "text": [
      "Population accounts for 63.0 % of variance in # of building fires\n",
      "R squared = 0.6259016202\n"
     ]
    },
    {
     "data": {
      "image/png": "[encoded data removed]",
      "text/plain": [
       "<matplotlib.figure.Figure at 0x7ff8f8a67f98>"
      ]
     },
     "metadata": {},
     "output_type": "display_data"
    }
   ],
   "source": [
    "# Population vs. Number of building fire incidents\n",
    "plt.figure\n",
    "sns.regplot(data=df_merge, x='Population', y='NumFireInc')\n",
    "\n",
    "from sklearn.linear_model import LinearRegression\n",
    "\n",
    "x = np.array(df_merge.Population).reshape(-1, 1)\n",
    "y = np.array(df_merge.NumFireInc).reshape(-1, 1)\n",
    "res = LinearRegression().fit(x, y)\n",
    "print('Population accounts for ' + str(np.round(100*res.score(x, y))) + ' % of variance in # of building fires')\n",
    "print('R squared = ' + str(res.score(x, y)))"
   ]
  },
  {
   "cell_type": "code",
   "execution_count": 14,
   "metadata": {
    "collapsed": true
   },
   "outputs": [],
   "source": [
    "#### Question: chi-squared statistic re: CO detector presence and duration of incident\n",
    "\n",
    "# gather data where information about CO detector is present\n",
    "df_cocomplete = df.dropna(subset = ['CO_DETECTOR_PRESENT_DESC'])"
   ]
  },
  {
   "cell_type": "code",
   "execution_count": 15,
   "metadata": {},
   "outputs": [
    {
     "name": "stdout",
     "output_type": "stream",
     "text": [
      "[[25802  5332]\n",
      " [  927   941]]\n"
     ]
    }
   ],
   "source": [
    "# calculations for 2 x 2 contingency table \n",
    "# calculate time in minutes for events were CO detector was present and absent\n",
    "min_yes = df_cocomplete[df_cocomplete.CO_DETECTOR_PRESENT_DESC == 'Yes']['TOTAL_INCIDENT_DURATION'] / 60\n",
    "min_no = df_cocomplete[df_cocomplete.CO_DETECTOR_PRESENT_DESC == 'No']['TOTAL_INCIDENT_DURATION'] / 60\n",
    "\n",
    "# categories long events as being > 1 hour, short events are <=1 hour\n",
    "long_yes = np.sum(min_yes > 60)\n",
    "long_no = np.sum(min_no > 60)\n",
    "short_yes = np.sum(min_yes <= 60)\n",
    "short_no = np.sum(min_no <= 60)\n",
    "\n",
    "# set up 2 x 2 contingency table \n",
    "cont_table = np.array([[short_yes, short_no], [long_yes, long_no]])\n",
    "print(cont_table)"
   ]
  },
  {
   "cell_type": "code",
   "execution_count": 16,
   "metadata": {},
   "outputs": [
    {
     "name": "stdout",
     "output_type": "stream",
     "text": [
      "chisquared stat:  1263.29116805\n",
      "p-value:  1.07313304359e-276\n"
     ]
    }
   ],
   "source": [
    "# calculate chi squared statistic\n",
    "from scipy.stats import chi2_contingency\n",
    "\n",
    "res = chi2_contingency(cont_table)\n",
    "print('chisquared stat:  ' + str(res[0]))\n",
    "print('p-value:  ' + str(res[1]))"
   ]
  },
  {
   "cell_type": "code",
   "execution_count": null,
   "metadata": {
    "collapsed": true
   },
   "outputs": [],
   "source": []
  }
 ],
 "metadata": {
  "kernelspec": {
   "display_name": "Python 3",
   "language": "python",
   "name": "python3"
  },
  "language_info": {
   "codemirror_mode": {
    "name": "ipython",
    "version": 3
   },
   "file_extension": ".py",
   "mimetype": "text/x-python",
   "name": "python",
   "nbconvert_exporter": "python",
   "pygments_lexer": "ipython3",
   "version": "3.6.2"
  }
 },
 "nbformat": 4,
 "nbformat_minor": 2
}
